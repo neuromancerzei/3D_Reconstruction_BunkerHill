{
 "cells": [
  {
   "cell_type": "markdown",
   "id": "953ba6bb",
   "metadata": {},
   "source": [
    "# Project Report of 3D Reconstruction by Chen Chen & Ruoxi Jin\n",
    "\n",
    "CS 585 Final Project\\\n",
    "Chen Chen\\\n",
    "Project Completed with Ruoxi Jin\\\n",
    "April 25, 2024"
   ]
  },
  {
   "cell_type": "markdown",
   "id": "ca50f9807d81cbf0",
   "metadata": {},
   "source": [
    "## Overall Description\n",
    "\n",
    "This project aims to digitally reconstruct the Bunker Hill Monument, a significant historical site located in Boston, Massachusetts, using advanced photogrammetry techniques. By employing the capabilities of Bundler and Patch-based Multi-view Stereo Software (PMVS), we intend to create a high-fidelity 3D model of the monument. This model will serve various purposes, including historical preservation, educational applications, and enhancing visitor experiences through virtual reality platforms.\n",
    "\n",
    "### Objectives\n",
    "**Data Collection**: Capture comprehensive photographic data of the Bunker Hill Monument from multiple angles to ensure extensive coverage and optimal overlap.\\\n",
    "**Sparse Reconstruction**: Utilize Bundler, a structure-from-motion (SfM) tool, to generate a sparse point cloud model from the collected images. This step will establish the base geometry and camera positioning critical to the accuracy of the final model.\\\n",
    "**Dense Reconstruction**: Apply PMVS to enhance the sparse point cloud into a dense model, providing a detailed and textured representation of the monument.\\\n",
    "**Model Optimization and Validation**: Refine and validate the model for accuracy and completeness, ensuring it faithfully represents the physical monument.\\"
   ]
  },
  {
   "cell_type": "markdown",
   "id": "1afc001324dd1675",
   "metadata": {},
   "source": [
    "## Method and Implementation\n",
    "\n",
    "#### Overview\n",
    "\n",
    "The core objective of this project was to implement a robust method for 3D reconstruction of the Bunker Hill Monument using photogrammetry techniques facilitated by Bundler and PMVS. The workflow encompasses several key phases: setting up the computational environment, capturing and processing images, and executing algorithms to generate both sparse and dense 3D models. This approach leverages advanced computer vision and photogrammetry algorithms to transform a set of 2D images into a 3D spatial representation.\n",
    "\n",
    "#### Implemented Method\n",
    "\n",
    "1. **Environment Setup**: We utilized Ubuntu 22.04 as the operating system to ensure compatibility with the latest versions of the software tools required. This stable environment supports the demanding computational needs of 3D reconstruction algorithms.\n",
    "\n",
    "2. **Software Installation and Configuration**:\n",
    "    - **Bundler and CMVS-PMVS**: These tools were acquired via Git repositories. Bundler performs the initial sparse reconstruction while CMVS-PMVS is used for generating dense point clouds.\n",
    "    - **SIFT**: The Scale-Invariant Feature Transform (SIFT) algorithm, essential for feature detection in images, was downloaded and compiled. It is critical for the feature matching phase managed by Bundler.\n",
    "    - **Dependencies**: Various libraries necessary for compiling and running the software, such as LAPACK, BLAS, and ImageMagick, were installed.\n",
    "\n",
    "3. **Compilation and Setup**:\n",
    "    - After installing the dependencies, Bundler and CMVS-PMVS were compiled. Necessary executables like `sift` and `jhead` were placed in the appropriate directories to ensure they were accessible to Bundler.\n",
    "\n",
    "4. **Execution of 3D Reconstruction**:\n",
    "    - **Preparation**: Images of the Bunker Hill Monument were uploaded to a dedicated directory within the Bundler environment.\n",
    "    - **Sparse Reconstruction**: Bundler was executed to create a sparse point cloud, which involves detecting keypoints using SIFT and matching these points across images to estimate camera parameters and 3D coordinates.\n",
    "    - **Dense Reconstruction**: Using the output from Bundler, a script was prepared to convert the sparse model into a format suitable for PMVS. This involved the creation of patch-based multi-view stereo images and running CMVS followed by PMVS to produce a dense point cloud.\n",
    "\n",
    "#### Code and Algorithmic Steps\n",
    "\n",
    "The project's codebase was structured to automate and streamline the process of converting a batch of images into a 3D model:\n",
    "\n",
    "- **Prepare and Process Images**: Scripts were utilized to automate the preparation of images for processing, including copying necessary binaries and setting environment variables.\n",
    "- **Run Bundler**: A script facilitated the running of Bundler with the correct parameters, handling large sets of images efficiently.\n",
    "- **Generate Dense Point Cloud**: Additional scripts were used to interface between the sparse point cloud output from Bundler and the dense reconstruction tools, ensuring seamless data transfer and optimization settings for PMVS.\n",
    "\n",
    "Each step in the process was encapsulated in scripts to enhance reproducibility and ease of use, allowing for adjustments in parameters based on the specific needs of the dataset or desired resolution of the final model."
   ]
  },
  {
   "cell_type": "markdown",
   "id": "ebad5c73dffb48a7",
   "metadata": {},
   "source": [
    "## Result and Discussion\n",
    "The final output of the 3D reconstruction process for the Bunker Hill Monument is a .ply (Polygon File Format or Stanford Triangle Format) file that represents the monument as a dense point cloud. The 3D reconstruction of the Bunker Hill Monument using Bundler and PMVS has successfully generated a detailed point cloud, encapsulating both the geometric structure and color information of the monument.\n",
    "\n",
    "![Screenshot of our final .ply file](file:///C:/Users/cccat/Desktop/cs585/cs585FinalProject/FinalPLYScreenshot.png)"
   ]
  },
  {
   "cell_type": "markdown",
   "id": "537cd30cb37604ae",
   "metadata": {},
   "source": [
    "## Conclusion\n",
    "This model can serve multiple purposes:\n",
    "\n",
    "**Historical Preservation**: Provides a digital archive of the monument in its current state, which can be useful for preservation and restoration projects.\\\n",
    "**Educational Use**: Facilitates the creation of interactive educational programs or virtual tours, enhancing the accessibility of the monument for students and remote learners.\\\n",
    "**Virtual Reality Applications**: Can be integrated into VR platforms to create immersive experiences that allow people from around the world to explore the monument virtually.\\"
   ]
  }
 ],
 "metadata": {
  "kernelspec": {
   "display_name": "Python 3 (ipykernel)",
   "language": "python",
   "name": "python3"
  },
  "language_info": {
   "codemirror_mode": {
    "name": "ipython",
    "version": 3
   },
   "file_extension": ".py",
   "mimetype": "text/x-python",
   "name": "python",
   "nbconvert_exporter": "python",
   "pygments_lexer": "ipython3",
   "version": "3.11.5"
  }
 },
 "nbformat": 4,
 "nbformat_minor": 5
}
